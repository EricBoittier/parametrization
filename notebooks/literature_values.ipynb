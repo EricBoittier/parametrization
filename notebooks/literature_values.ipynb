{
 "cells": [
  {
   "cell_type": "code",
   "execution_count": 1,
   "id": "5ea2f73e-0e3f-4c7a-8116-85f73957baaa",
   "metadata": {},
   "outputs": [
    {
     "name": "stderr",
     "output_type": "stream",
     "text": [
      "/home/boittier/miniconda3/envs/myenv/lib/python3.9/site-packages/pandas/core/construction.py:589: UnitStrippedWarning: The unit of the quantity is stripped when downcasting to ndarray.\n",
      "  data = np.array(data, copy=copy)\n",
      "/home/boittier/miniconda3/envs/myenv/lib/python3.9/site-packages/pandas/core/construction.py:589: UnitStrippedWarning: The unit of the quantity is stripped when downcasting to ndarray.\n",
      "  data = np.array(data, copy=copy)\n"
     ]
    }
   ],
   "source": [
    "from plot_exp import *"
   ]
  },
  {
   "cell_type": "code",
   "execution_count": 33,
   "id": "0176536e-add6-4483-9e07-52de1147eb32",
   "metadata": {},
   "outputs": [
    {
     "data": {
      "text/html": [
       "<div>\n",
       "<style scoped>\n",
       "    .dataframe tbody tr th:only-of-type {\n",
       "        vertical-align: middle;\n",
       "    }\n",
       "\n",
       "    .dataframe tbody tr th {\n",
       "        vertical-align: top;\n",
       "    }\n",
       "\n",
       "    .dataframe thead th {\n",
       "        text-align: right;\n",
       "    }\n",
       "</style>\n",
       "<table border=\"1\" class=\"dataframe\">\n",
       "  <thead>\n",
       "    <tr style=\"text-align: right;\">\n",
       "      <th></th>\n",
       "      <th>run</th>\n",
       "      <th>scaling</th>\n",
       "      <th>dG(solv)</th>\n",
       "      <th>Density(298)</th>\n",
       "      <th>Density(333)</th>\n",
       "      <th>dH(vap)(298)</th>\n",
       "      <th>dH(vap)(333)</th>\n",
       "    </tr>\n",
       "  </thead>\n",
       "  <tbody>\n",
       "    <tr>\n",
       "      <th>0</th>\n",
       "      <td>exp</td>\n",
       "      <td>NaN</td>\n",
       "      <td>-5.100</td>\n",
       "      <td>786</td>\n",
       "      <td>753</td>\n",
       "      <td>8.940</td>\n",
       "      <td>8.42</td>\n",
       "    </tr>\n",
       "    <tr>\n",
       "      <th>1</th>\n",
       "      <td>r1</td>\n",
       "      <td>1.00</td>\n",
       "      <td>-5.763</td>\n",
       "      <td>778</td>\n",
       "      <td>723</td>\n",
       "      <td>8.900</td>\n",
       "      <td>8.10</td>\n",
       "    </tr>\n",
       "    <tr>\n",
       "      <th>2</th>\n",
       "      <td>r2</td>\n",
       "      <td>1.01</td>\n",
       "      <td>-5.338</td>\n",
       "      <td>752</td>\n",
       "      <td>704</td>\n",
       "      <td>8.600</td>\n",
       "      <td>7.90</td>\n",
       "    </tr>\n",
       "    <tr>\n",
       "      <th>3</th>\n",
       "      <td>r3</td>\n",
       "      <td>1.02</td>\n",
       "      <td>-5.356</td>\n",
       "      <td>735</td>\n",
       "      <td>687</td>\n",
       "      <td>8.200</td>\n",
       "      <td>7.70</td>\n",
       "    </tr>\n",
       "    <tr>\n",
       "      <th>4</th>\n",
       "      <td>r4</td>\n",
       "      <td>1.03</td>\n",
       "      <td>-5.115</td>\n",
       "      <td>711</td>\n",
       "      <td>667</td>\n",
       "      <td>7.870</td>\n",
       "      <td>7.16</td>\n",
       "    </tr>\n",
       "    <tr>\n",
       "      <th>5</th>\n",
       "      <td>r5</td>\n",
       "      <td>1.04</td>\n",
       "      <td>-4.840</td>\n",
       "      <td>695</td>\n",
       "      <td>649</td>\n",
       "      <td>7.500</td>\n",
       "      <td>7.00</td>\n",
       "    </tr>\n",
       "    <tr>\n",
       "      <th>6</th>\n",
       "      <td>r9</td>\n",
       "      <td>0.99</td>\n",
       "      <td>-5.909</td>\n",
       "      <td>791</td>\n",
       "      <td>743</td>\n",
       "      <td>9.288</td>\n",
       "      <td>8.74</td>\n",
       "    </tr>\n",
       "    <tr>\n",
       "      <th>7</th>\n",
       "      <td>r10</td>\n",
       "      <td>0.98</td>\n",
       "      <td>-6.216</td>\n",
       "      <td>816</td>\n",
       "      <td>765</td>\n",
       "      <td>9.600</td>\n",
       "      <td>9.20</td>\n",
       "    </tr>\n",
       "    <tr>\n",
       "      <th>8</th>\n",
       "      <td>r11</td>\n",
       "      <td>0.97</td>\n",
       "      <td>-6.377</td>\n",
       "      <td>834</td>\n",
       "      <td>788</td>\n",
       "      <td>10.100</td>\n",
       "      <td>9.70</td>\n",
       "    </tr>\n",
       "    <tr>\n",
       "      <th>9</th>\n",
       "      <td>r12</td>\n",
       "      <td>0.96</td>\n",
       "      <td>-6.870</td>\n",
       "      <td>852</td>\n",
       "      <td>816</td>\n",
       "      <td>10.600</td>\n",
       "      <td>10.20</td>\n",
       "    </tr>\n",
       "  </tbody>\n",
       "</table>\n",
       "</div>"
      ],
      "text/plain": [
       "   run  scaling  dG(solv)  Density(298)  Density(333)  dH(vap)(298)  \\\n",
       "0  exp      NaN    -5.100           786           753         8.940   \n",
       "1   r1     1.00    -5.763           778           723         8.900   \n",
       "2   r2     1.01    -5.338           752           704         8.600   \n",
       "3   r3     1.02    -5.356           735           687         8.200   \n",
       "4   r4     1.03    -5.115           711           667         7.870   \n",
       "5   r5     1.04    -4.840           695           649         7.500   \n",
       "6   r9     0.99    -5.909           791           743         9.288   \n",
       "7  r10     0.98    -6.216           816           765         9.600   \n",
       "8  r11     0.97    -6.377           834           788        10.100   \n",
       "9  r12     0.96    -6.870           852           816        10.600   \n",
       "\n",
       "   dH(vap)(333)  \n",
       "0          8.42  \n",
       "1          8.10  \n",
       "2          7.90  \n",
       "3          7.70  \n",
       "4          7.16  \n",
       "5          7.00  \n",
       "6          8.74  \n",
       "7          9.20  \n",
       "8          9.70  \n",
       "9         10.20  "
      ]
     },
     "execution_count": 33,
     "metadata": {},
     "output_type": "execute_result"
    }
   ],
   "source": [
    "sigma_"
   ]
  },
  {
   "cell_type": "code",
   "execution_count": 11,
   "id": "7aab8b7c-86b0-427c-81bc-fb430a29740e",
   "metadata": {},
   "outputs": [],
   "source": [
    "import pandas as pd\n",
    "\n",
    "sigma_ = pd.read_csv(\"latex/properties.csv\")\n",
    "sigma = sigma_[['dG(solv)', 'Density(298)', 'Density(333)',\n",
    "       'dH(vap)(298)', 'dH(vap)(333)']]"
   ]
  },
  {
   "cell_type": "code",
   "execution_count": 44,
   "id": "3feaa39b-81a3-4124-afe9-57d42365de95",
   "metadata": {},
   "outputs": [
    {
     "data": {
      "text/html": [
       "<div>\n",
       "<style scoped>\n",
       "    .dataframe tbody tr th:only-of-type {\n",
       "        vertical-align: middle;\n",
       "    }\n",
       "\n",
       "    .dataframe tbody tr th {\n",
       "        vertical-align: top;\n",
       "    }\n",
       "\n",
       "    .dataframe thead th {\n",
       "        text-align: right;\n",
       "    }\n",
       "</style>\n",
       "<table border=\"1\" class=\"dataframe\">\n",
       "  <thead>\n",
       "    <tr style=\"text-align: right;\">\n",
       "      <th></th>\n",
       "      <th>dG(solv)</th>\n",
       "      <th>Density(298)</th>\n",
       "      <th>Density(333)</th>\n",
       "      <th>dH(vap)(298)</th>\n",
       "      <th>dH(vap)(333)</th>\n",
       "      <th>score</th>\n",
       "      <th>run</th>\n",
       "    </tr>\n",
       "  </thead>\n",
       "  <tbody>\n",
       "    <tr>\n",
       "      <th>1</th>\n",
       "      <td>0.130000</td>\n",
       "      <td>0.010178</td>\n",
       "      <td>0.039841</td>\n",
       "      <td>0.004474</td>\n",
       "      <td>0.038005</td>\n",
       "      <td>0.746268</td>\n",
       "      <td>r1</td>\n",
       "    </tr>\n",
       "    <tr>\n",
       "      <th>2</th>\n",
       "      <td>0.046667</td>\n",
       "      <td>0.043257</td>\n",
       "      <td>0.065073</td>\n",
       "      <td>0.038031</td>\n",
       "      <td>0.061758</td>\n",
       "      <td>0.445723</td>\n",
       "      <td>r2</td>\n",
       "    </tr>\n",
       "    <tr>\n",
       "      <th>3</th>\n",
       "      <td>0.050196</td>\n",
       "      <td>0.064885</td>\n",
       "      <td>0.087649</td>\n",
       "      <td>0.082774</td>\n",
       "      <td>0.085511</td>\n",
       "      <td>0.563925</td>\n",
       "      <td>r3</td>\n",
       "    </tr>\n",
       "    <tr>\n",
       "      <th>4</th>\n",
       "      <td>0.002941</td>\n",
       "      <td>0.095420</td>\n",
       "      <td>0.114210</td>\n",
       "      <td>0.119687</td>\n",
       "      <td>0.149644</td>\n",
       "      <td>0.463816</td>\n",
       "      <td>r4</td>\n",
       "    </tr>\n",
       "    <tr>\n",
       "      <th>5</th>\n",
       "      <td>0.050980</td>\n",
       "      <td>0.115776</td>\n",
       "      <td>0.138114</td>\n",
       "      <td>0.161074</td>\n",
       "      <td>0.168646</td>\n",
       "      <td>0.800597</td>\n",
       "      <td>r5</td>\n",
       "    </tr>\n",
       "    <tr>\n",
       "      <th>6</th>\n",
       "      <td>0.158627</td>\n",
       "      <td>0.006361</td>\n",
       "      <td>0.013280</td>\n",
       "      <td>0.038926</td>\n",
       "      <td>0.038005</td>\n",
       "      <td>0.861065</td>\n",
       "      <td>r9</td>\n",
       "    </tr>\n",
       "    <tr>\n",
       "      <th>7</th>\n",
       "      <td>0.218824</td>\n",
       "      <td>0.038168</td>\n",
       "      <td>0.015936</td>\n",
       "      <td>0.073826</td>\n",
       "      <td>0.092637</td>\n",
       "      <td>1.258505</td>\n",
       "      <td>r10</td>\n",
       "    </tr>\n",
       "    <tr>\n",
       "      <th>8</th>\n",
       "      <td>0.250392</td>\n",
       "      <td>0.061069</td>\n",
       "      <td>0.046481</td>\n",
       "      <td>0.129754</td>\n",
       "      <td>0.152019</td>\n",
       "      <td>1.554171</td>\n",
       "      <td>r11</td>\n",
       "    </tr>\n",
       "    <tr>\n",
       "      <th>9</th>\n",
       "      <td>0.347059</td>\n",
       "      <td>0.083969</td>\n",
       "      <td>0.083665</td>\n",
       "      <td>0.185682</td>\n",
       "      <td>0.211401</td>\n",
       "      <td>2.185288</td>\n",
       "      <td>r12</td>\n",
       "    </tr>\n",
       "  </tbody>\n",
       "</table>\n",
       "</div>"
      ],
      "text/plain": [
       "   dG(solv)  Density(298)  Density(333)  dH(vap)(298)  dH(vap)(333)     score  \\\n",
       "1  0.130000      0.010178      0.039841      0.004474      0.038005  0.746268   \n",
       "2  0.046667      0.043257      0.065073      0.038031      0.061758  0.445723   \n",
       "3  0.050196      0.064885      0.087649      0.082774      0.085511  0.563925   \n",
       "4  0.002941      0.095420      0.114210      0.119687      0.149644  0.463816   \n",
       "5  0.050980      0.115776      0.138114      0.161074      0.168646  0.800597   \n",
       "6  0.158627      0.006361      0.013280      0.038926      0.038005  0.861065   \n",
       "7  0.218824      0.038168      0.015936      0.073826      0.092637  1.258505   \n",
       "8  0.250392      0.061069      0.046481      0.129754      0.152019  1.554171   \n",
       "9  0.347059      0.083969      0.083665      0.185682      0.211401  2.185288   \n",
       "\n",
       "   run  \n",
       "1   r1  \n",
       "2   r2  \n",
       "3   r3  \n",
       "4   r4  \n",
       "5   r5  \n",
       "6   r9  \n",
       "7  r10  \n",
       "8  r11  \n",
       "9  r12  "
      ]
     },
     "execution_count": 44,
     "metadata": {},
     "output_type": "execute_result"
    }
   ],
   "source": [
    "def score(dG,d1,d2,h1,h2, w1=5,w2=3,w3=1):\n",
    "    return (w1*dG + w2*(d1+d2)/2 + w3*(h1+h2)/2)\n",
    "\n",
    "\n",
    "param = abs(1 - sigma.iloc[1:] / sigma.iloc[0])\n",
    "param[\"score\"] = param.apply(lambda row: score(row['dG(solv)'], row['Density(298)'], row['Density(333)'], row['dH(vap)(298)'], row['dH(vap)(333)']), axis=1)\n",
    "param[\"run\"] = sigma_[\"run\"].iloc[1:]\n",
    "param"
   ]
  },
  {
   "cell_type": "code",
   "execution_count": 47,
   "id": "2d4a1964-65e4-4d47-9223-6fbff8e1f1bf",
   "metadata": {},
   "outputs": [
    {
     "data": {
      "text/plain": [
       "2.0637820837536975"
      ]
     },
     "execution_count": 47,
     "metadata": {},
     "output_type": "execute_result"
    }
   ],
   "source": [
    "dG = 1 - 7.1/5.1\n",
    "p1 = 1 - 808/786\n",
    "p2 = 1 - 775/753\n",
    "h1 = 1 - 8.7/8.9 \n",
    "h2 = 1 - 8.3/8.4\n",
    "score(abs(dG),abs(p1),abs(p2),abs(h1),abs(h2))"
   ]
  },
  {
   "cell_type": "code",
   "execution_count": 3,
   "id": "67e8633d-0940-4205-b642-82c80c4fda55",
   "metadata": {},
   "outputs": [
    {
     "name": "stderr",
     "output_type": "stream",
     "text": [
      "/tmp/ipykernel_83870/619537918.py:1: FutureWarning: In future versions `DataFrame.to_latex` is expected to utilise the base implementation of `Styler.to_latex` for formatting and rendering. The arguments signature may therefore change. It is recommended instead to use `DataFrame.style.to_latex` which also contains additional functionality.\n",
      "  pd.read_csv(\"latex/properties.csv\").to_latex(\n"
     ]
    }
   ],
   "source": [
    "pd.read_csv(\"latex/properties.csv\").to_latex(\n",
    "    \"latex/prop_scale.tex\", \n",
    "    longtable=True, \n",
    "    float_format=\"%.1f\",\n",
    "    index=False\n",
    ")"
   ]
  },
  {
   "cell_type": "code",
   "execution_count": 15,
   "id": "10df8521-3aa2-4304-9e39-a433ceda7512",
   "metadata": {},
   "outputs": [
    {
     "name": "stderr",
     "output_type": "stream",
     "text": [
      "/tmp/ipykernel_4028882/3170985082.py:3: FutureWarning: In future versions `DataFrame.to_latex` is expected to utilise the base implementation of `Styler.to_latex` for formatting and rendering. The arguments signature may therefore change. It is recommended instead to use `DataFrame.style.to_latex` which also contains additional functionality.\n",
      "  methanol_density.to_latex(\n"
     ]
    }
   ],
   "source": [
    "methanol_density = methanol_density[[\"Temp. (K)\", \"Density\"]][::8]\n",
    "\n",
    "methanol_density.to_latex(\n",
    "    \"latex/density.tex\", \n",
    "    longtable=True, \n",
    "    float_format=\"%.3f\",\n",
    "    index=False\n",
    ")"
   ]
  },
  {
   "cell_type": "code",
   "execution_count": 16,
   "id": "5b241b72-2720-436c-88c8-5e22f41525aa",
   "metadata": {},
   "outputs": [
    {
     "name": "stderr",
     "output_type": "stream",
     "text": [
      "/home/boittier/miniconda3/envs/myenv/lib/python3.9/site-packages/pandas/core/construction.py:589: UnitStrippedWarning: The unit of the quantity is stripped when downcasting to ndarray.\n",
      "  data = np.array(data, copy=copy)\n",
      "/tmp/ipykernel_4028882/3975260676.py:3: FutureWarning: In future versions `DataFrame.to_latex` is expected to utilise the base implementation of `Styler.to_latex` for formatting and rendering. The arguments signature may therefore change. It is recommended instead to use `DataFrame.style.to_latex` which also contains additional functionality.\n",
      "  kappa.to_latex(\n"
     ]
    }
   ],
   "source": [
    "kappa = pd.DataFrame({\"$\\kappa$\": isothermal_compress, \"Temp. (K)\": K})\n",
    "\n",
    "kappa.to_latex(\n",
    "    \"latex/kappa.tex\", \n",
    "    longtable=True, \n",
    "    float_format=\"%.7f\",\n",
    "    index=False\n",
    ")"
   ]
  },
  {
   "cell_type": "code",
   "execution_count": 20,
   "id": "93efdc95-7cd5-4a31-af80-03987e1d56ab",
   "metadata": {},
   "outputs": [
    {
     "name": "stderr",
     "output_type": "stream",
     "text": [
      "/tmp/ipykernel_4028882/2257084978.py:2: FutureWarning: In future versions `DataFrame.to_latex` is expected to utilise the base implementation of `Styler.to_latex` for formatting and rendering. The arguments signature may therefore change. It is recommended instead to use `DataFrame.style.to_latex` which also contains additional functionality.\n",
      "  D.to_latex(\n"
     ]
    }
   ],
   "source": [
    "D = pd.DataFrame({\"$D$\": D2, \"Temp. (K)\": K_D2})\n",
    "D.to_latex(\n",
    "    \"latex/d.tex\", \n",
    "    longtable=True, \n",
    "    float_format=\"%.2f\",\n",
    "    index=False\n",
    ")"
   ]
  },
  {
   "cell_type": "code",
   "execution_count": 25,
   "id": "34ac46f0-44b0-4c74-968d-ae6436526e74",
   "metadata": {},
   "outputs": [
    {
     "name": "stderr",
     "output_type": "stream",
     "text": [
      "/tmp/ipykernel_4028882/1824826477.py:4: FutureWarning: In future versions `DataFrame.to_latex` is expected to utilise the base implementation of `Styler.to_latex` for formatting and rendering. The arguments signature may therefore change. It is recommended instead to use `DataFrame.style.to_latex` which also contains additional functionality.\n",
      "  Hvap.to_latex(\n"
     ]
    }
   ],
   "source": [
    "H_vap = np.array([37420.00, 35200.00]) * 0.000239006\n",
    "H_vap_K = [298.15, 337.80]\n",
    "Hvap = pd.DataFrame({\"$\\Delta$H$_{vap}$\": H_vap, \"Temp. (K)\": H_vap_K})\n",
    "Hvap.to_latex(\n",
    "    \"latex/hvap.tex\", \n",
    "    longtable=True, \n",
    "    float_format=\"%.2f\",\n",
    "    index=False\n",
    ")"
   ]
  },
  {
   "cell_type": "code",
   "execution_count": 30,
   "id": "d5d0647f-0de1-477b-8640-efd3e9170a9d",
   "metadata": {},
   "outputs": [
    {
     "name": "stderr",
     "output_type": "stream",
     "text": [
      "/tmp/ipykernel_4028882/1767280163.py:3: FutureWarning: In future versions `DataFrame.to_latex` is expected to utilise the base implementation of `Styler.to_latex` for formatting and rendering. The arguments signature may therefore change. It is recommended instead to use `DataFrame.style.to_latex` which also contains additional functionality.\n",
      "  heat_capacity[[\"Cp\", \"Temp. (K)\"]].to_latex(\n"
     ]
    }
   ],
   "source": [
    "heat_capacity[\"Temp. (K)\"] = heat_capacity[\"K\"]\n",
    "heat_capacity[\"Cp\"] = heat_capacity[\"cal mol K\"]\n",
    "heat_capacity[[\"Cp\", \"Temp. (K)\"]].to_latex(\n",
    "    \"latex/cp.tex\", \n",
    "    longtable=True, \n",
    "    float_format=\"%.2f\",\n",
    "    index=False\n",
    ")"
   ]
  },
  {
   "cell_type": "code",
   "execution_count": null,
   "id": "97e2d6a3-190c-481f-b19f-ca589457eec2",
   "metadata": {},
   "outputs": [],
   "source": []
  }
 ],
 "metadata": {
  "kernelspec": {
   "display_name": "myenv",
   "language": "python",
   "name": "myenv"
  },
  "language_info": {
   "codemirror_mode": {
    "name": "ipython",
    "version": 3
   },
   "file_extension": ".py",
   "mimetype": "text/x-python",
   "name": "python",
   "nbconvert_exporter": "python",
   "pygments_lexer": "ipython3",
   "version": "3.9.13"
  }
 },
 "nbformat": 4,
 "nbformat_minor": 5
}
