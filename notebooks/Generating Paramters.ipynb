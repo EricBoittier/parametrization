{
 "cells": [
  {
   "cell_type": "code",
   "execution_count": 1,
   "id": "82b7f342-9e93-46f6-b6e9-4f7a77e21cbe",
   "metadata": {},
   "outputs": [
    {
     "name": "stdout",
     "output_type": "stream",
     "text": [
      "8\n"
     ]
    }
   ],
   "source": [
    "import itertools\n",
    "\n",
    "from itertools import combinations_with_replacement, product\n",
    "  \n",
    "def rSubset(arr, r):\n",
    "  \n",
    "    # return list of all subsets of length r\n",
    "    # to deal with duplicate subsets use \n",
    "    # set(list(combinations(arr, r)))\n",
    "    return list(product(arr, repeat=r))\n",
    "\n",
    "\n",
    "arr = [1.0, 1.25]\n",
    "r = 3\n",
    "print( len(rSubset(arr, r)))\n",
    "\n",
    "\n",
    "job_string = \"python main.py -p_out /data/boittier/param/methanol_h/fmdcm/r1.{run} -p_in /data/boittier/param/methanol/input -v fmdcm -s {s} -e1 {e1} -e2 {e2} -e3 {e3} -e4 {e4}\""
   ]
  },
  {
   "cell_type": "code",
   "execution_count": 2,
   "id": "c51ae505-519b-49f2-b11b-d7e9a1696d05",
   "metadata": {},
   "outputs": [
    {
     "name": "stdout",
     "output_type": "stream",
     "text": [
      "python main.py -p_out /data/boittier/param/methanol_h/fmdcm/r1.0.0 -p_in /data/boittier/param/methanol/input -v fmdcm -s 1.0 -e1 1.0 -e2 1.0 -e3 1.0 -e4 1.0\n",
      "python main.py -p_out /data/boittier/param/methanol_h/fmdcm/r1.0.1 -p_in /data/boittier/param/methanol/input -v fmdcm -s 1.0 -e1 1.0 -e2 1.0 -e3 1.0 -e4 1.0\n",
      "python main.py -p_out /data/boittier/param/methanol_h/fmdcm/r1.1.0 -p_in /data/boittier/param/methanol/input -v fmdcm -s 1.0 -e1 1.0 -e2 1.0 -e3 1.25 -e4 1.25\n",
      "python main.py -p_out /data/boittier/param/methanol_h/fmdcm/r1.1.1 -p_in /data/boittier/param/methanol/input -v fmdcm -s 1.0 -e1 1.0 -e2 1.0 -e3 1.25 -e4 1.25\n",
      "python main.py -p_out /data/boittier/param/methanol_h/fmdcm/r1.2.0 -p_in /data/boittier/param/methanol/input -v fmdcm -s 1.0 -e1 1.0 -e2 1.25 -e3 1.0 -e4 1.0\n",
      "python main.py -p_out /data/boittier/param/methanol_h/fmdcm/r1.2.1 -p_in /data/boittier/param/methanol/input -v fmdcm -s 1.0 -e1 1.0 -e2 1.25 -e3 1.0 -e4 1.0\n",
      "python main.py -p_out /data/boittier/param/methanol_h/fmdcm/r1.3.0 -p_in /data/boittier/param/methanol/input -v fmdcm -s 1.0 -e1 1.0 -e2 1.25 -e3 1.25 -e4 1.25\n",
      "python main.py -p_out /data/boittier/param/methanol_h/fmdcm/r1.3.1 -p_in /data/boittier/param/methanol/input -v fmdcm -s 1.0 -e1 1.0 -e2 1.25 -e3 1.25 -e4 1.25\n",
      "python main.py -p_out /data/boittier/param/methanol_h/fmdcm/r1.4.0 -p_in /data/boittier/param/methanol/input -v fmdcm -s 1.0 -e1 1.25 -e2 1.0 -e3 1.0 -e4 1.0\n",
      "python main.py -p_out /data/boittier/param/methanol_h/fmdcm/r1.4.1 -p_in /data/boittier/param/methanol/input -v fmdcm -s 1.0 -e1 1.25 -e2 1.0 -e3 1.0 -e4 1.0\n",
      "python main.py -p_out /data/boittier/param/methanol_h/fmdcm/r1.5.0 -p_in /data/boittier/param/methanol/input -v fmdcm -s 1.0 -e1 1.25 -e2 1.0 -e3 1.25 -e4 1.25\n",
      "python main.py -p_out /data/boittier/param/methanol_h/fmdcm/r1.5.1 -p_in /data/boittier/param/methanol/input -v fmdcm -s 1.0 -e1 1.25 -e2 1.0 -e3 1.25 -e4 1.25\n",
      "python main.py -p_out /data/boittier/param/methanol_h/fmdcm/r1.6.0 -p_in /data/boittier/param/methanol/input -v fmdcm -s 1.0 -e1 1.25 -e2 1.25 -e3 1.0 -e4 1.0\n",
      "python main.py -p_out /data/boittier/param/methanol_h/fmdcm/r1.6.1 -p_in /data/boittier/param/methanol/input -v fmdcm -s 1.0 -e1 1.25 -e2 1.25 -e3 1.0 -e4 1.0\n",
      "python main.py -p_out /data/boittier/param/methanol_h/fmdcm/r1.7.0 -p_in /data/boittier/param/methanol/input -v fmdcm -s 1.0 -e1 1.25 -e2 1.25 -e3 1.25 -e4 1.25\n",
      "python main.py -p_out /data/boittier/param/methanol_h/fmdcm/r1.7.1 -p_in /data/boittier/param/methanol/input -v fmdcm -s 1.0 -e1 1.25 -e2 1.25 -e3 1.25 -e4 1.25\n"
     ]
    }
   ],
   "source": [
    "for i, comb in enumerate(rSubset(arr, r)):\n",
    "    # print(i, comb)\n",
    "    for j in range(2):\n",
    "        out_str = job_string.format(run=f\"{i}.{j}\", s=1.0, e1=comb[0], e2=comb[1], e3=comb[2], e4=comb[2])\n",
    "        print(out_str)"
   ]
  },
  {
   "cell_type": "code",
   "execution_count": 54,
   "id": "70af81ff-a8ae-4cd8-b601-79ea238b3254",
   "metadata": {},
   "outputs": [
    {
     "data": {
      "text/plain": [
       "56"
      ]
     },
     "execution_count": 54,
     "metadata": {},
     "output_type": "execute_result"
    }
   ],
   "source": [
    "for i, comb in enumerate(rSubset(arr, r)):\n",
    "    out_str = job_string.format(run=i, s=1.0, e1=comb[0], e2=comb[1], e3=comb[2], e4=comb[2])\n",
    "    print(out_str)"
   ]
  },
  {
   "cell_type": "code",
   "execution_count": 52,
   "id": "c8e8596f-233f-40a9-b0a8-0f53a22b790e",
   "metadata": {},
   "outputs": [
    {
     "data": {
      "text/plain": [
       "4.0"
      ]
     },
     "execution_count": 52,
     "metadata": {},
     "output_type": "execute_result"
    }
   ],
   "source": [
    "for i, comb in enumerate(rSubset(arr, r)):\n",
    "    # print(i, comb)\n",
    "    if i != 0:\n",
    "        out_str = job_string.format(run=i, s=1.0, e1=comb[0], e2=comb[1], e3=comb[2], e4=comb[2])\n",
    "        print(out_str)"
   ]
  },
  {
   "cell_type": "code",
   "execution_count": 55,
   "id": "fd540061-4948-4e99-b806-d9b68eb0f97b",
   "metadata": {},
   "outputs": [],
   "source": []
  },
  {
   "cell_type": "code",
   "execution_count": 62,
   "id": "f4b0b8d4-3c5b-4555-a637-f9222a06ddf0",
   "metadata": {},
   "outputs": [
    {
     "data": {
      "text/plain": [
       "-0.0552"
      ]
     },
     "execution_count": 62,
     "metadata": {},
     "output_type": "execute_result"
    }
   ],
   "source": [
    "-0.0460*1.2"
   ]
  },
  {
   "cell_type": "code",
   "execution_count": 99,
   "id": "6aa03775-1694-4e9a-8af2-a78f5dde2270",
   "metadata": {},
   "outputs": [],
   "source": [
    "import os\n",
    "import numpy as np\n",
    "import matplotlib.pyplot as plt\n",
    "_path_ = \"/home/boittier/data/param/methanol/fmdcm/r15.1/t331.0/dipvac.dat\"\n",
    "\"/home/boittier/data/param/methanol/fmdcm/r15.1/t298.15/dipvac.dat\"\n",
    "dipvac = open(_path_).readlines()"
   ]
  },
  {
   "cell_type": "code",
   "execution_count": 100,
   "id": "71b2c4be-0de5-4a07-8a2c-a1965f941304",
   "metadata": {},
   "outputs": [],
   "source": [
    "dipvac_data = [[float(a) for a in b.split()] if \"*\" not in b else [0,0,0] for b in dipvac ]"
   ]
  },
  {
   "cell_type": "code",
   "execution_count": 101,
   "id": "bf365d50-b8c2-4239-b6b4-c24981cef207",
   "metadata": {},
   "outputs": [],
   "source": [
    "dipmag = np.linalg.norm(dipvac_data, axis=1)"
   ]
  },
  {
   "cell_type": "code",
   "execution_count": 102,
   "id": "1794a76c-3933-4b81-ab2d-30115b5152bc",
   "metadata": {},
   "outputs": [
    {
     "data": {
      "text/plain": [
       "<matplotlib.collections.PathCollection at 0x7f632369a370>"
      ]
     },
     "execution_count": 102,
     "metadata": {},
     "output_type": "execute_result"
    },
    {
     "data": {
      "image/png": "[encoded data removed]",
      "text/plain": [
       "<Figure size 432x288 with 1 Axes>"
      ]
     },
     "metadata": {
      "needs_background": "light"
     },
     "output_type": "display_data"
    }
   ],
   "source": [
    "plt.scatter(range(len(dipmag)), dipmag)"
   ]
  },
  {
   "cell_type": "code",
   "execution_count": 103,
   "id": "7b8c0386-e7de-46b6-a880-97af1242f947",
   "metadata": {},
   "outputs": [
    {
     "data": {
      "text/plain": [
       "(array([  87.,  805., 1857., 1602., 1106., 1342., 1353., 1129.,  416.,\n",
       "         107.]),\n",
       " array([0.26084651, 0.27481627, 0.28878602, 0.30275578, 0.31672553,\n",
       "        0.33069529, 0.34466505, 0.3586348 , 0.37260456, 0.38657431,\n",
       "        0.40054407]),\n",
       " <BarContainer object of 10 artists>)"
      ]
     },
     "execution_count": 103,
     "metadata": {},
     "output_type": "execute_result"
    },
    {
     "data": {
      "image/png": "[encoded data removed]",
      "text/plain": [
       "<Figure size 432x288 with 1 Axes>"
      ]
     },
     "metadata": {
      "needs_background": "light"
     },
     "output_type": "display_data"
    }
   ],
   "source": [
    "plt.hist(dipmag)"
   ]
  },
  {
   "cell_type": "code",
   "execution_count": null,
   "id": "d07708c3-deb1-4abb-a761-481a22a9eaa6",
   "metadata": {},
   "outputs": [],
   "source": []
  },
  {
   "cell_type": "code",
   "execution_count": null,
   "id": "ff7bbe70-d9c6-47ef-8100-aa894b432c8d",
   "metadata": {},
   "outputs": [],
   "source": []
  }
 ],
 "metadata": {
  "kernelspec": {
   "display_name": "myenv",
   "language": "python",
   "name": "myenv"
  },
  "language_info": {
   "codemirror_mode": {
    "name": "ipython",
    "version": 3
   },
   "file_extension": ".py",
   "mimetype": "text/x-python",
   "name": "python",
   "nbconvert_exporter": "python",
   "pygments_lexer": "ipython3",
   "version": "3.9.13"
  }
 },
 "nbformat": 4,
 "nbformat_minor": 5
}
