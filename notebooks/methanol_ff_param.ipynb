{
 "cells": [
  {
   "cell_type": "code",
   "execution_count": 102,
   "id": "911bd204-8405-4d99-ae3b-09f9e027db35",
   "metadata": {},
   "outputs": [],
   "source": [
    "import os\n",
    "import numpy as np\n",
    "from scipy import constants as const \n",
    "import matplotlib.pyplot as plt\n",
    "import MDAnalysis as mda\n",
    "from MDAnalysis.analysis.dielectric import DielectricConstant\n",
    "# import mdtraj as md\n",
    "\n",
    "def get_volumes(path):\n",
    "    \"\"\"read grepped output from CHARMM log file and return list of volumes\"\"\"\n",
    "    with open(path) as f:\n",
    "        _ = f.readlines()\n",
    "        return np.array([float(x.split()[-1]) for x in _])*1E-27 #convert to M^3\n",
    "    \n",
    "    \n",
    "def density(volume, N_res, MW):\n",
    "    \"\"\"return the density of a pure liquid\"\"\"\n",
    "    return N_res*MW / (const.N_A*volume)\n",
    "    "
   ]
  },
  {
   "cell_type": "code",
   "execution_count": 332,
   "id": "d5f66cf5-161d-4701-929b-39a89a66620d",
   "metadata": {},
   "outputs": [],
   "source": [
    "_path = \"/home/boittier/Documents/PhD/data/methanol/charmm/pressure.raw\"\n",
    "\n",
    "# mdcm\n",
    "_path2 = \"/home/boittier/Documents/PhD/data/methanol/mdcm/ntp/pressure.raw\"\n",
    "\n",
    "_path2 = \"/home/boittier/data/param/methanol/fmdcm/r1/t300/pressure.raw\"\n",
    "\n",
    "        \n",
    "volumes = get_volumes(_path)\n",
    "volumes = volumes[100:]\n"
   ]
  },
  {
   "cell_type": "code",
   "execution_count": 340,
   "id": "b5fb7850-200e-46c2-9b06-b6f4a3a910fe",
   "metadata": {},
   "outputs": [],
   "source": [
    "volumes2 = get_volumes(_path2)\n",
    "volumes2 = volumes2[2000:]"
   ]
  },
  {
   "cell_type": "markdown",
   "id": "114befd3-2aab-477c-b7ed-46b39584ac47",
   "metadata": {},
   "source": [
    "# Calculation of Density\n",
    "\n",
    "Units\n"
   ]
  },
  {
   "cell_type": "code",
   "execution_count": 341,
   "id": "b3ea7666-e92f-4ab8-89c4-91d63724ef1f",
   "metadata": {},
   "outputs": [
    {
     "name": "stdout",
     "output_type": "stream",
     "text": [
      "avg_vol:  1.4268288365160763e-23\n",
      "density: 753.2187050631858\n"
     ]
    }
   ],
   "source": [
    "avg_vol = np.average(volumes) # \n",
    "avg_vol2 = np.average(volumes2) # \n",
    "print(\"avg_vol: \", avg_vol)\n",
    "N_res = 202 \n",
    "MW = 32.04 # g/mol\n",
    "print(\"density:\", density(avg_vol, N_res, MW))"
   ]
  },
  {
   "cell_type": "code",
   "execution_count": 342,
   "id": "528c2ba4-a2f2-45aa-bf32-cdaf6754c563",
   "metadata": {},
   "outputs": [
    {
     "name": "stdout",
     "output_type": "stream",
     "text": [
      "density: 748.2484016102139\n"
     ]
    }
   ],
   "source": [
    "print(\"density:\", density(avg_vol2, N_res, MW))"
   ]
  },
  {
   "cell_type": "code",
   "execution_count": 343,
   "id": "692285f9-1fda-426a-89f7-eed11ad3ee3f",
   "metadata": {},
   "outputs": [
    {
     "data": {
      "image/png": "[encoded data removed]",
      "text/plain": [
       "<Figure size 432x288 with 1 Axes>"
      ]
     },
     "metadata": {
      "needs_background": "light"
     },
     "output_type": "display_data"
    }
   ],
   "source": [
    "_ = plt.hist(volumes)\n",
    "plt.xlabel(\"Volume (m$^{3}$)\")\n",
    "plt.ylabel(\"Frequency\")\n",
    "plt.savefig(\"volumes.pdf\", bbox_inches=\"tight\")\n",
    "_ = plt.hist(volumes2)\n",
    "plt.xlabel(\"Volume (m$^{3}$)\")\n",
    "plt.ylabel(\"Frequency\")\n",
    "plt.savefig(\"volumes.pdf\", bbox_inches=\"tight\")"
   ]
  },
  {
   "cell_type": "code",
   "execution_count": 344,
   "id": "7f4d64b9-7f41-4e56-b775-28e8157c452e",
   "metadata": {},
   "outputs": [
    {
     "data": {
      "text/plain": [
       "<matplotlib.collections.PathCollection at 0x7fbc56800220>"
      ]
     },
     "execution_count": 344,
     "metadata": {},
     "output_type": "execute_result"
    },
    {
     "data": {
      "image/png": "[encoded data removed]",
      "text/plain": [
       "<Figure size 432x288 with 1 Axes>"
      ]
     },
     "metadata": {
      "needs_background": "light"
     },
     "output_type": "display_data"
    }
   ],
   "source": [
    "plt.scatter(range(len(volumes2)), volumes2)"
   ]
  },
  {
   "cell_type": "markdown",
   "id": "60971bff-2f11-414b-8e4e-43571ac5c22c",
   "metadata": {},
   "source": [
    "#  Dipole moment\n",
    "\n",
    "## From a Gaussian09 calculation"
   ]
  },
  {
   "cell_type": "code",
   "execution_count": 66,
   "id": "ceee30da-0e89-4b92-b1bc-78e562dccc6f",
   "metadata": {},
   "outputs": [
    {
     "data": {
      "text/plain": [
       "(1.79, 'D')"
      ]
     },
     "execution_count": 66,
     "metadata": {},
     "output_type": "execute_result"
    }
   ],
   "source": [
    "# Bohr_to_D = 2.541746\n",
    "# gaussian = np.array([0.5133515,-0.2995578,-0.3396115])/Bohr_to_D\n",
    "# distance = np.sqrt(np.sum(gaussian**2))\n",
    "# D = distance\n",
    "# D\n",
    "1.79, \"D\""
   ]
  },
  {
   "cell_type": "markdown",
   "id": "ef246137-3c8f-44a3-9e83-cdf905f9e18a",
   "metadata": {},
   "source": [
    "## Gas Phase CHARMM MD Simulation"
   ]
  },
  {
   "cell_type": "code",
   "execution_count": 275,
   "id": "d553b79b-39b4-4fe1-b74e-b729cc1d6e0b",
   "metadata": {},
   "outputs": [
    {
     "data": {
      "text/plain": [
       "0.5075931374448444"
      ]
     },
     "execution_count": 275,
     "metadata": {},
     "output_type": "execute_result"
    }
   ],
   "source": [
    "def dipole(positions, masses, charges, verbose=False):\n",
    "    \"\"\"calculate dipole\"\"\"\n",
    "    \n",
    "    mass_total = masses.sum()\n",
    "    NATOMS = len(masses)\n",
    "    masses_tile = np.tile(masses, (3, 1)).T\n",
    "    charges_tile = np.tile(charges, (3, 1)).T\n",
    "\n",
    "    pos_x_mass = positions*masses_tile\n",
    "    CoM = pos_x_mass.sum(axis=0)/mass_total\n",
    "    \n",
    "    CoM_tile = np.tile(COM, (NATOMS, 1))\n",
    "    \n",
    "    DIF = positions - COM_tile\n",
    "    moments = (DIF*charges_tile).sum(axis=0)\n",
    "    magnitude = np.sqrt(np.sum(moments**2))\n",
    "    \n",
    "    # print(masses_tile)\n",
    "    # print(positions)\n",
    "    # print(moments)\n",
    "    # print(magnitude)\n",
    "    # print(DIF)\n",
    "    # print(DIF*CHARGES_tile)\n",
    "    # print()\n",
    "    # print(CHARGES_tile)\n",
    "    # print(CoM_tile)\n",
    "    # print(pos_x_mass)\n",
    "    \n",
    "    return magnitude\n",
    "    \n",
    "dipole(positions, masses, charges)"
   ]
  },
  {
   "cell_type": "code",
   "execution_count": 212,
   "id": "3ca7c486-33cf-41ea-8448-ba5d0a28e3df",
   "metadata": {},
   "outputs": [],
   "source": [
    "path = \"/home/boittier/Documents/PhD/data/methanol/charmm/vac\"\n",
    "pdb = os.path.join(path, \"step4_equilibration.pdb\")\n",
    "psf = os.path.join(path, \"ligandrm.psf\")\n",
    "dcd = os.path.join(path, \"step4.dcd\")\n",
    "u = mda.Universe(psf, dcd)"
   ]
  },
  {
   "cell_type": "code",
   "execution_count": 282,
   "id": "eaaed837-1907-4691-8194-524dd5c0b734",
   "metadata": {},
   "outputs": [],
   "source": [
    "dipole_moments = []\n",
    "timesteps = []\n",
    "verbose = False\n",
    "\n",
    "for t, ts in enumerate(u.trajectory):\n",
    "\n",
    "    masses = u.atoms[:].masses\n",
    "    charges = u.atoms[:].charges\n",
    "    positions = u.atoms[:].positions\n",
    "    magnitude = dipole(positions, masses, charges, verbose=verbose)\n",
    "    \n",
    "    dipole_moments.append(magnitude)\n",
    "    timesteps.append(t)\n",
    "    "
   ]
  },
  {
   "cell_type": "code",
   "execution_count": 283,
   "id": "dff44cd7-3b41-4d2d-9a36-957d9ea1dc5d",
   "metadata": {},
   "outputs": [
    {
     "data": {
      "image/png": "[encoded data removed]",
      "text/plain": [
       "<Figure size 432x288 with 1 Axes>"
      ]
     },
     "metadata": {
      "needs_background": "light"
     },
     "output_type": "display_data"
    }
   ],
   "source": [
    "dipole_moments = np.array(dipole_moments)\n",
    "plt.plot(timesteps, dipole_moments)\n",
    "plt.axhline(np.mean(dipole_moments), color=\"k\")\n",
    "plt.xlabel(\"timestep\")\n",
    "plt.ylabel(\"Dipole (D)\")\n",
    "plt.savefig(\"PC_charmm_dipole.pdf\", bbox_inches=\"tight\")"
   ]
  },
  {
   "cell_type": "code",
   "execution_count": 162,
   "id": "c805c6e2-d0c1-467b-8b41-7ae6a3a66e69",
   "metadata": {},
   "outputs": [
    {
     "name": "stdout",
     "output_type": "stream",
     "text": [
      "[[ 1.417e+00 -0.000e+00  4.000e-03]\n",
      " [ 3.000e-03  1.000e-03  4.000e-03]\n",
      " [ 1.732e+00  9.060e-01 -1.300e-02]\n",
      " [-3.140e-01 -1.059e+00 -9.900e-02]\n",
      " [-3.150e-01  5.870e-01  8.930e-01]\n",
      " [-4.180e-01  4.890e-01 -9.010e-01]]\n",
      "[1.0002534  0.3345685  0.14044471]\n",
      "[[ 2.0004e+00  8.4210e-01 -1.1800e-02 -8.0800e-02]\n",
      " [ 1.7545e+00  9.4050e-01 -1.3600e-02  4.3710e-01]\n",
      " [ 1.6476e+00 -7.7400e-02 -1.7620e-01 -9.9120e-01]\n",
      " [ 1.6476e+00 -7.0500e-02  1.8700e-01 -9.9120e-01]\n",
      " [ 1.9098e+00  1.1900e-02  3.8000e-03  7.0620e-01]\n",
      " [ 1.3462e+00 -1.5760e-01  7.0000e-03  9.2500e-01]\n",
      " [ 4.6800e-02  1.1160e-01  1.9000e-03 -2.7550e-01]\n",
      " [-3.5110e-01  6.6060e-01  9.7060e-01  8.9700e-02]\n",
      " [-4.6320e-01  5.5390e-01 -9.8150e-01  8.9700e-02]\n",
      " [-3.3610e-01 -1.2410e+00 -1.1690e-01  9.1100e-02]]\n"
     ]
    }
   ],
   "source": [
    "xyz_str = \"\"\"1.4170   -0.0000    0.0040  \n",
    " 0.0030    0.0010    0.0040\n",
    " 1.7320    0.9060   -0.0130\n",
    "-0.3140   -1.0590   -0.0990\n",
    "-0.3150    0.5870    0.8930\n",
    "-0.4180    0.4890   -0.9010\"\"\"\n",
    "\n",
    "xyz_ = np.array([[float(x) for x in l.split()] for l in xyz_str.split(\"\\n\")])\n",
    "print(xyz_)\n",
    "\n",
    "COM_ = xyz_.mean(axis=0)\n",
    "\n",
    "print(COM)\n",
    "\n",
    "dcm_str = \"\"\"2.0004    0.8421   -0.0118   -0.0808\n",
    " 1.7545    0.9405   -0.0136    0.4371\n",
    " 1.6476   -0.0774   -0.1762   -0.9912\n",
    " 1.6476   -0.0705    0.1870   -0.9912\n",
    " 1.9098    0.0119    0.0038    0.7062\n",
    " 1.3462   -0.1576    0.0070    0.9250\n",
    " 0.0468    0.1116    0.0019   -0.2755\n",
    "-0.3511    0.6606    0.9706    0.0897\n",
    "-0.4632    0.5539   -0.9815    0.0897\n",
    "-0.3361   -1.2410   -0.1169    0.0911\"\"\"\n",
    "\n",
    "dcm_ = np.array([[float(x) for x in l.split()] for l in dcm_str.split(\"\\n\")])\n",
    "print(dcm_)\n"
   ]
  },
  {
   "cell_type": "markdown",
   "id": "76fb4b5b-e807-48f7-b6e1-7751948154a3",
   "metadata": {},
   "source": [
    "##  Liquid phase MDCM"
   ]
  },
  {
   "cell_type": "code",
   "execution_count": 318,
   "id": "439d371c-ffa5-41b6-abcd-90574054ebc0",
   "metadata": {},
   "outputs": [
    {
     "data": {
      "text/plain": [
       "<matplotlib.lines.Line2D at 0x7fbc748c42e0>"
      ]
     },
     "execution_count": 318,
     "metadata": {},
     "output_type": "execute_result"
    },
    {
     "data": {
      "image/png": "[encoded data removed]",
      "text/plain": [
       "<Figure size 432x288 with 1 Axes>"
      ]
     },
     "metadata": {
      "needs_background": "light"
     },
     "output_type": "display_data"
    }
   ],
   "source": [
    "path = \"/home/boittier/Documents/PhD/data/methanol/mdcm/dipole/dipole.dat\"\n",
    "with open(path) as f:\n",
    "    lines = f.readlines()\n",
    "    \n",
    "dipole_vec = [[float(_) for _ in x.split()] for x in lines]\n",
    "dipole_vec = np.array(dipole_vec)\n",
    "dipole_mag = np.sqrt((dipole_vec**2).sum(axis=1))\n",
    "timesteps = range(len(dipole_mag))\n",
    "\n",
    "plt.plot(timesteps, dipole_mag)\n",
    "plt.axhline(np.mean(dipole_mag), color=\"k\")\n",
    "# plt.hist(dipole_mag)"
   ]
  },
  {
   "cell_type": "code",
   "execution_count": 319,
   "id": "860816b2-c2d6-4c09-91bb-bd467eb25ca8",
   "metadata": {},
   "outputs": [
    {
     "name": "stdout",
     "output_type": "stream",
     "text": [
      "3.9734736506094523\n"
     ]
    }
   ],
   "source": [
    "print(np.mean(dipole_mag))"
   ]
  },
  {
   "cell_type": "code",
   "execution_count": 327,
   "id": "4f99dfe8-25af-4aa6-bc46-81b864066eb1",
   "metadata": {},
   "outputs": [
    {
     "data": {
      "text/plain": [
       "<matplotlib.lines.Line2D at 0x7fbc6ddd79a0>"
      ]
     },
     "execution_count": 327,
     "metadata": {},
     "output_type": "execute_result"
    },
    {
     "data": {
      "image/png": "[encoded data removed]",
      "text/plain": [
       "<Figure size 432x288 with 1 Axes>"
      ]
     },
     "metadata": {
      "needs_background": "light"
     },
     "output_type": "display_data"
    }
   ],
   "source": [
    "#  done at 400 K...\n",
    "\n",
    "path = \"/home/boittier/Documents/PhD/data/methanol/mdcm/dipole/dipvac.dat\"\n",
    "\n",
    "with open(path) as f:\n",
    "    lines = f.readlines()\n",
    "    \n",
    "dipole_vec = [[float(_) for _ in x.split()] for x in lines]\n",
    "dipole_vec = np.array(dipole_vec)\n",
    "dipole_mag = np.sqrt((dipole_vec**2).sum(axis=1))\n",
    "timesteps = range(len(dipole_mag))\n",
    "\n",
    "plt.plot(timesteps, dipole_mag)\n",
    "plt.axhline(np.mean(dipole_mag), color=\"k\")\n"
   ]
  },
  {
   "cell_type": "code",
   "execution_count": 300,
   "id": "0f51f7ef-bb2f-4f31-98e2-dd68be48ccf8",
   "metadata": {},
   "outputs": [
    {
     "data": {
      "text/plain": [
       "0.3811827936830307"
      ]
     },
     "execution_count": 300,
     "metadata": {},
     "output_type": "execute_result"
    }
   ],
   "source": [
    "dipole_mag[0]"
   ]
  },
  {
   "cell_type": "markdown",
   "id": "3c7db01c-e39e-4efb-a847-ac2e0ebd8cc8",
   "metadata": {},
   "source": [
    "#  fMDCM gas phase dipole "
   ]
  },
  {
   "cell_type": "code",
   "execution_count": 325,
   "id": "36a26cc6-9ec8-4d34-9ea1-c949a7378845",
   "metadata": {},
   "outputs": [
    {
     "data": {
      "text/plain": [
       "<matplotlib.lines.Line2D at 0x7fbc6e08cb50>"
      ]
     },
     "execution_count": 325,
     "metadata": {},
     "output_type": "execute_result"
    },
    {
     "data": {
      "image/png": "[encoded data removed]",
      "text/plain": [
       "<Figure size 432x288 with 1 Axes>"
      ]
     },
     "metadata": {
      "needs_background": "light"
     },
     "output_type": "display_data"
    }
   ],
   "source": [
    "path = \"/home/boittier/Documents/PhD/data/methanol/fdcm/dipole/dipvac.dat\"\n",
    "\n",
    "with open(path) as f:\n",
    "    lines = f.readlines()\n",
    "    \n",
    "dipole_vec = [[float(_) for _ in x.split()] for x in lines]\n",
    "dipole_vec = np.array(dipole_vec)\n",
    "dipole_mag = np.sqrt((dipole_vec**2).sum(axis=1))\n",
    "timesteps = range(len(dipole_mag))\n",
    "\n",
    "plt.plot(timesteps, dipole_mag)\n",
    "plt.axhline(np.mean(dipole_mag), color=\"k\")"
   ]
  },
  {
   "cell_type": "code",
   "execution_count": null,
   "id": "1eb8d803-1679-4f91-9fa7-8f37f734e107",
   "metadata": {},
   "outputs": [],
   "source": []
  }
 ],
 "metadata": {
  "kernelspec": {
   "display_name": "myenv",
   "language": "python",
   "name": "myenv"
  },
  "language_info": {
   "codemirror_mode": {
    "name": "ipython",
    "version": 3
   },
   "file_extension": ".py",
   "mimetype": "text/x-python",
   "name": "python",
   "nbconvert_exporter": "python",
   "pygments_lexer": "ipython3",
   "version": "3.9.13"
  }
 },
 "nbformat": 4,
 "nbformat_minor": 5
}
